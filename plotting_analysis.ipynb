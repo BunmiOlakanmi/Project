{
 "cells": [
  {
   "cell_type": "code",
   "execution_count": null,
   "metadata": {},
   "outputs": [],
   "source": []
  },
  {
   "cell_type": "code",
   "execution_count": 2,
   "metadata": {},
   "outputs": [],
   "source": [
    "#Import Dependencies\n",
    "import matplotlib.pyplot as plt\n",
    "import numpy as np\n",
    "import pandas as pd\n"
   ]
  },
  {
   "cell_type": "code",
   "execution_count": 4,
   "metadata": {
    "scrolled": true
   },
   "outputs": [
    {
     "ename": "NameError",
     "evalue": "name 'covid_df' is not defined",
     "output_type": "error",
     "traceback": [
      "\u001b[1;31m---------------------------------------------------------------------------\u001b[0m",
      "\u001b[1;31mNameError\u001b[0m                                 Traceback (most recent call last)",
      "\u001b[1;32m<ipython-input-4-1a6f39279c30>\u001b[0m in \u001b[0;36m<module>\u001b[1;34m\u001b[0m\n\u001b[0;32m      1\u001b[0m \u001b[1;31m#Question 1 Summary statistics on Continent Infection waves\u001b[0m\u001b[1;33m\u001b[0m\u001b[1;33m\u001b[0m\u001b[1;33m\u001b[0m\u001b[0m\n\u001b[0;32m      2\u001b[0m \u001b[1;33m\u001b[0m\u001b[0m\n\u001b[1;32m----> 3\u001b[1;33m \u001b[0mcovid_df\u001b[0m\u001b[1;33m.\u001b[0m\u001b[0mplot\u001b[0m\u001b[1;33m(\u001b[0m\u001b[0mkind\u001b[0m\u001b[1;33m=\u001b[0m\u001b[1;34m'line'\u001b[0m\u001b[1;33m,\u001b[0m\u001b[0mx\u001b[0m\u001b[1;33m=\u001b[0m\u001b[1;34m\"ObservationDate\"\u001b[0m\u001b[1;33m,\u001b[0m \u001b[0my\u001b[0m\u001b[1;33m=\u001b[0m\u001b[1;34m'Confirmed'\u001b[0m\u001b[1;33m)\u001b[0m\u001b[1;33m\u001b[0m\u001b[1;33m\u001b[0m\u001b[0m\n\u001b[0m\u001b[0;32m      4\u001b[0m \u001b[0mplt\u001b[0m\u001b[1;33m.\u001b[0m\u001b[0mylabel\u001b[0m\u001b[1;33m(\u001b[0m\u001b[1;34m\"\"\u001b[0m\u001b[1;33m)\u001b[0m\u001b[1;33m\u001b[0m\u001b[1;33m\u001b[0m\u001b[0m\n\u001b[0;32m      5\u001b[0m \u001b[0mplt\u001b[0m\u001b[1;33m.\u001b[0m\u001b[0mtitle\u001b[0m\u001b[1;33m(\u001b[0m\u001b[1;34m\"\"\u001b[0m\u001b[1;33m)\u001b[0m\u001b[1;33m\u001b[0m\u001b[1;33m\u001b[0m\u001b[0m\n",
      "\u001b[1;31mNameError\u001b[0m: name 'covid_df' is not defined"
     ]
    }
   ],
   "source": [
    "#Question 1 Summary statistics on Continent Infection waves\n",
    "#Time series of Confirmed/Deaths/Recovered(Kaggle COVID-19 Data)\n",
    "covid_df.plot(kind='line',x=\"ObservationDate\", y='Confirmed')\n",
    "plt.ylabel(\"Total amount\")\n",
    "plt.title(\"Time Series of Confirmed/Deaths/Recovered\")\n"
   ]
  },
  {
   "cell_type": "code",
   "execution_count": null,
   "metadata": {},
   "outputs": [],
   "source": [
    "#Question 2 Interventions and Success"
   ]
  },
  {
   "cell_type": "code",
   "execution_count": null,
   "metadata": {},
   "outputs": [],
   "source": [
    "#Question 3 Economic Impact of COVID-19(Kaggle COVID-19/Unemployment Rates - Canada)\n",
    "\n",
    "#need Confirmed  to be per month\n",
    "(slope, intercept, rvalue, pvalue, stderr) = st.linregress(covid_df['Confirmed'], unemployment_df['Unemployment Rate'])\n",
    "regress_values = covid_df['Confirmed'] * slope + intercept \n",
    "line_eq = 'y = ' + str(round(slope, 2)) + \"x + \" + str(round(intercept, 2))\n",
    "corr = st.pearsonr(*econ_data['Unemployment Rate'], covid_df['Confirmed'])\n",
    "print(line_eq, / R = {corr[0]})"
   ]
  },
  {
   "cell_type": "code",
   "execution_count": null,
   "metadata": {},
   "outputs": [],
   "source": [
    "#plot regression graph\n",
    "plt.scatter(covid_df['Confirmed'], unemployment_df['Unemployment Rate'])\n",
    "plt.plot(covid_df['Confirmed'],regress_values,\"r-\")\n",
    "plt.annotate(line_eq,(6,10),fontsize=15,color=\"red\")\n",
    "plt.xlabel('Confirmed Infected')\n",
    "plt.ylabel('Unemployment Rate')\n",
    "plt.title(\"Confirmed Infected Vs. Unemployment Rate\")\n",
    "plt.show()"
   ]
  },
  {
   "cell_type": "code",
   "execution_count": null,
   "metadata": {},
   "outputs": [],
   "source": []
  },
  {
   "cell_type": "code",
   "execution_count": null,
   "metadata": {},
   "outputs": [],
   "source": [
    "#Question 4 COVID-19 Impact on mortality due to lifestyle\n",
    "(slope, intercept, rvalue, pvalue, stderr) = st.linregress(*econ_data['Infected'], *econ_data['Mortality rate'])\n",
    "regress_values = *econ_data['Infected'] * slope + intercept \n",
    "line_eq = 'y = ' + str(round(slope, 2)) + \"x + \" + str(round(intercept, 2))\n",
    "corr = st.pearsonr(*econ_data['Mortality Rate'], *econ_data['Infected'])\n",
    "print(line_eq, / R = {corr[0]})"
   ]
  },
  {
   "cell_type": "code",
   "execution_count": null,
   "metadata": {},
   "outputs": [],
   "source": [
    "#Question 5 Differences between COVID-19 and normal flu\n",
    "(slope, intercept, rvalue, pvalue, stderr) = st.linregress(*econ_data['Infected'], *econ_data['flu_infected'])\n",
    "regress_values = *econ_data['Infected'] * slope + intercept \n",
    "line_eq = 'y = ' + str(round(slope, 2)) + \"x + \" + str(round(intercept, 2))\n",
    "corr = st.pearsonr(*econ_data['flu_infected'], *econ_data['Infected'])\n",
    "print(line_eq, / R = {corr[0]})"
   ]
  },
  {
   "cell_type": "code",
   "execution_count": null,
   "metadata": {},
   "outputs": [],
   "source": [
    "#Question 6 Key patterns observed between flattening the curve and responses"
   ]
  },
  {
   "cell_type": "code",
   "execution_count": null,
   "metadata": {},
   "outputs": [],
   "source": [
    "#Question 7 Key patterns observed between responses and long-term economic impact\n",
    "#bar graph comparing GDP growth for each country(GDP Growth-Q2)\n",
    "econ_df.plot(kind='bar',x='Entity', y='GDP growth from previous year, 2020 Q2')"
   ]
  }
 ],
 "metadata": {
  "kernelspec": {
   "display_name": "Python 3",
   "language": "python",
   "name": "python3"
  },
  "language_info": {
   "codemirror_mode": {
    "name": "ipython",
    "version": 3
   },
   "file_extension": ".py",
   "mimetype": "text/x-python",
   "name": "python",
   "nbconvert_exporter": "python",
   "pygments_lexer": "ipython3",
   "version": "3.8.3"
  }
 },
 "nbformat": 4,
 "nbformat_minor": 4
}
