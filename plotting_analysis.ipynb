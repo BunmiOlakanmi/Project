{
 "cells": [
  {
   "cell_type": "code",
   "execution_count": null,
   "metadata": {},
   "outputs": [],
   "source": []
  },
  {
   "cell_type": "code",
   "execution_count": 2,
   "metadata": {},
   "outputs": [],
   "source": [
    "#Import Dependencies\n",
    "import matplotlib.pyplot as plt\n",
    "import numpy as np\n",
    "import pandas as pd\n"
   ]
  },
  {
   "cell_type": "code",
   "execution_count": 1,
   "metadata": {
    "scrolled": true
   },
   "outputs": [],
   "source": [
    "#Question 1 Summary statistics on Continent Infection waves\n",
    "#Time series of Confirmed/Deaths/Recovered(Kaggle COVID-19 Data)\n",
    "canada_covid_df.plot(kind='line',x=\"ObservationDate_dt\", y='Confirmed')\n",
    "plt.ylabel(\"Total amount of People\")\n",
    "plt.title(\"Time Series of Confirmed/Deaths/Recovered\")\n"
   ]
  },
  {
   "cell_type": "code",
   "execution_count": null,
   "metadata": {},
   "outputs": [],
   "source": [
    "#Question 2 Interventions and Success"
   ]
  },
  {
   "cell_type": "code",
   "execution_count": null,
   "metadata": {},
   "outputs": [],
   "source": [
    "#Question 3 Economic Impact of COVID-19(Kaggle COVID-19/Unemployment Rates - Canada)\n",
    "#regression between confrimed infected amount per month vs unemployment\n",
    "(slope, intercept, rvalue, pvalue, stderr) = st.linregress(canada_covid_df2['Confirmed']['max'], canada_merge_df['Value'])\n",
    "regress_values = canada_covid_df2['Confirmed']['max'] * slope + intercept \n",
    "line_eq1 = 'y = ' + str(round(slope, 2)) + \"x + \" + str(round(intercept, 2))\n",
    "corr = st.pearsonr(canada_merge_df['Value'], canada_covid_df2['Confirmed']['max'])\n",
    "print(line_eq1, {corr[0]})"
   ]
  },
  {
   "cell_type": "code",
   "execution_count": null,
   "metadata": {},
   "outputs": [],
   "source": [
    "#plot regression graph\n",
    "plt.scatter(canada_covid_df2['Confirmed']['max'], canada_merge_df['Value'])\n",
    "plt.plot(canada_covid_df2['Confirmed']['max'],regress_values,\"r-\")\n",
    "plt.annotate(line_eq1,(6,10),fontsize=15,color=\"red\")\n",
    "plt.xlabel('Confirmed Infected')\n",
    "plt.ylabel('Unemployment Rate')\n",
    "plt.title(\"Confirmed Infected Vs. Unemployment Rate\")\n",
    "plt.show()"
   ]
  },
  {
   "cell_type": "code",
   "execution_count": null,
   "metadata": {},
   "outputs": [],
   "source": []
  },
  {
   "cell_type": "code",
   "execution_count": null,
   "metadata": {},
   "outputs": [],
   "source": [
    "#Question 4 COVID-19 Impact on mortality due to lifestyle\n",
    "(slope2, intercept2, rvalue2, pvalue2, stderr2) = st.linregress(*econ_data['Infected'], *econ_data['Mortality rate'])\n",
    "regress_values2 = *econ_data['Infected'] * slope2 + intercept2 \n",
    "line_eq2 = 'y = ' + str(round(slope2, 2)) + \"x + \" + str(round(intercept2, 2))\n",
    "corr = st.pearsonr(*econ_data['Mortality Rate'], *econ_data['Infected'])\n",
    "print(line_eq2, {corr[0]})"
   ]
  },
  {
   "cell_type": "code",
   "execution_count": null,
   "metadata": {},
   "outputs": [],
   "source": [
    "#Question 5 Differences between COVID-19 and normal flu deaths(Death Counts.ipynb)\n",
    "#regression on total deaths\n",
    "(slope3, intercept3, rvalue3, pvalue3, stderr3) = st.linregress(age_grp6_df['COVID-19 Deaths'], age_grp6_df['Pneumonia or Influenza'])\n",
    "regress_values3 = age_grp6_df['COVID-19 Deaths'] * slope3 + intercept3 \n",
    "line_eq3 = 'y = ' + str(round(slope3, 2)) + \"x + \" + str(round(intercept3, 2))\n",
    "corr = st.pearsonr(age_grp6_df['COVID-19 Deaths'], age_grp6_df['Pneumonia or Influenza'])\n",
    "print(line_eq3, {corr[0]})"
   ]
  },
  {
   "cell_type": "code",
   "execution_count": null,
   "metadata": {},
   "outputs": [],
   "source": [
    "#plot regression on total deaths\n",
    "plt.scatter(age_grp6_df['COVID-19 Deaths'], age_grp6_df['Pneumonia or Influenza'])\n",
    "plt.plot(age_grp6_df['COVID-19 Deaths'],regress_values3,\"r-\")\n",
    "plt.annotate(line_eq3,(6,10),fontsize=15,color=\"red\")\n",
    "plt.xlabel('Total COVID-19 Deaths')\n",
    "plt.ylabel('Pneumonia and Influenza')\n",
    "plt.title(\"Total COVID-19 Deaths Vs. Pneumonia and Influenza Deaths\")\n",
    "plt.show()"
   ]
  },
  {
   "cell_type": "code",
   "execution_count": null,
   "metadata": {},
   "outputs": [],
   "source": [
    "#regression on average deaths\n",
    "(slope4, intercept4, rvalue4, pvalue4, stderr4) = st.linregress(age_grp5_df['Average COVID-19 Deaths'], age_grp5_df['Average Pneumonia or Influenza'])\n",
    "regress_values4 = age_grp5_df['Average COVID-19 Deaths'] * slope4 + intercept4 \n",
    "line_eq4 = 'y = ' + str(round(slope4, 2)) + \"x + \" + str(round(intercept4, 2))\n",
    "corr = st.pearsonr(age_grp5_df['Average COVID-19 Deaths'], age_grp5_df['Average Pneumonia or Influenza'])\n",
    "print(line_eq4, {corr[0]})"
   ]
  },
  {
   "cell_type": "code",
   "execution_count": null,
   "metadata": {},
   "outputs": [],
   "source": [
    "#plot regression on average deaths\n",
    "plt.scatter(age_grp5_df['Average COVID-19 Deaths'], age_grp5_df['Average Pneumonia or Influenza'])\n",
    "plt.plot(age_grp5_df['Average COVID-19 Deaths'],regress_values4,\"r-\")\n",
    "plt.annotate(line_eq4,(6,10),fontsize=15,color=\"red\")\n",
    "plt.xlabel('Average COVID-19 Deaths')\n",
    "plt.ylabel('Average Pneumonia and Influenza')\n",
    "plt.title(\"Average COVID-19 Deaths Vs. Average Pneumonia and Influenza Deaths\")\n",
    "plt.show()"
   ]
  },
  {
   "cell_type": "code",
   "execution_count": null,
   "metadata": {},
   "outputs": [],
   "source": []
  },
  {
   "cell_type": "code",
   "execution_count": null,
   "metadata": {},
   "outputs": [],
   "source": [
    "#Question 7 Key patterns observed between responses and long-term economic impact\n",
    "#bar graph comparing GDP growth for each country(GDP Growth-Q2)\n",
    "econ_df.plot(kind='bar',x='Entity', y='GDP growth from previous year, 2020 Q2')"
   ]
  }
 ],
 "metadata": {
  "kernelspec": {
   "display_name": "Python 3",
   "language": "python",
   "name": "python3"
  },
  "language_info": {
   "codemirror_mode": {
    "name": "ipython",
    "version": 3
   },
   "file_extension": ".py",
   "mimetype": "text/x-python",
   "name": "python",
   "nbconvert_exporter": "python",
   "pygments_lexer": "ipython3",
   "version": "3.8.3"
  }
 },
 "nbformat": 4,
 "nbformat_minor": 4
}
