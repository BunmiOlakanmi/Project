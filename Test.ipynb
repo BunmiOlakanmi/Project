
 
 
  {
   "cell_type": "code",
   "execution_count": null,
   "metadata": {},
   "outputs": [],
   "source": [
    "#Import Dependencies\n",
    "import matplotlib.pyplot as plt\n",
    "import numpy as np"
   ]
  },
  {
   "cell_type": "code",
   "execution_count": null,
   "metadata": {},
   "outputs": [],
   "source": [
    "#Run cleanup/transformations notebook\n",
    "%run"
   ]
  },
  {
   "cell_type": "code",
   "execution_count": null,
   "metadata": {},
   "outputs": [],
   "source": [
    "#Import Dependencies\n",
    "import matplotlib.pyplot as plt\n",
    "import pandas as pd\n",
    "import numpy as np"
   ]
  },
  {
   "cell_type": "code",
   "execution_count": null,
   "metadata": {},
   "outputs": [],
   "source": [
    "#Question 1 Summary statistics on Continent Infection waves\n",
    "mean = *data.groupby(\"Continent\")['Infected'].mean()\n",
    "med = *data.groupby(\"Continent\")['Infected'].median()\n",
    "Var = *data.groupby(\"Continent\")['Infected'].var()\n",
    "SD = *data.groupby(\"Continent\")['Infected'].std()\n",
    "sem = *data.groupby(\"Continent\")['Infected'].sem()\n",
    "\n",
    "stats_summary = pd.DataFrame({'Mean': mean, 'Median': med, 'Variance' : Var, 'standard deviation' : SD, 'SEM': sem})\n",
    "stats_summary"
   ]
  },
  {
   "cell_type": "code",
   "execution_count": null,
   "metadata": {},
   "outputs": [],
   "source": [
    "#Question 2 Interventions and Success"
   ]
  },
  {
   "cell_type": "code",
   "execution_count": null,
   "metadata": {},
   "outputs": [],
   "source": [
    "#Question 3 Economic Impact of COVID-19\n",
    "(slope, intercept, rvalue, pvalue, stderr) = st.linregress(*econ_data['Infected'], *econ_data['Unemployment Rate'])\n",
    "regress_values = *econ_data['Infected'] * slope + intercept \n",
    "line_eq = 'y = ' + str(round(slope, 2)) + \"x + \" + str(round(intercept, 2))\n",
    "corr = st.pearsonr(*econ_data['Unemployment Rate'], *econ_data['Infected'])\n",
    "print(line_eq, f\"/ R = {corr[0]}\")"
   ]
  },
  {
   "cell_type": "code",
   "execution_count": null,
   "metadata": {},
   "outputs": [],
   "source": [
    "#Question 4 COVID-19 Impact on mortality due to lifestyle\n",
    "(slope, intercept, rvalue, pvalue, stderr) = st.linregress(*econ_data['Infected'], *econ_data['Mortality rate'])\n",
    "regress_values = *econ_data['Infected'] * slope + intercept \n",
    "line_eq = 'y = ' + str(round(slope, 2)) + \"x + \" + str(round(intercept, 2))\n",
    "corr = st.pearsonr(*econ_data['Mortality Rate'], *econ_data['Infected'])\n",
    "print(line_eq, f\"/ R = {corr[0]}\")"
   ]
  },
  {
   "cell_type": "code",
   "execution_count": null,
   "metadata": {},
   "outputs": [],
   "source": [
    "#Question 5 Differences between COVID-19 and normal flu\n",
    "(slope, intercept, rvalue, pvalue, stderr) = st.linregress(*econ_data['Infected'], *econ_data['flu_infected'])\n",
    "regress_values = *econ_data['Infected'] * slope + intercept \n",
    "line_eq = 'y = ' + str(round(slope, 2)) + \"x + \" + str(round(intercept, 2))\n",
    "corr = st.pearsonr(*econ_data['flu_infected'], *econ_data['Infected'])\n",
    "print(line_eq, f\"/ R = {corr[0]}\")"
   ]
  }
 ]
}
  },
  {
   "cell_type": "code",
   "execution_count": null,
   "metadata": {},
   "outputs": [],
   "source": [
    "#Question 6 Key patterns observed between flattening the curve and responses\n"
   ]
  },
  {
   "cell_type": "code",
   "execution_count": null,
   "metadata": {},
   "outputs": [],
   "source": [
    "#Question 7 Key patterns observed between responses and long-term economic impact"
   ]
  }
  },
  {
   "cell_type": "code",
   "execution_count": null,
   "metadata": {},
   "outputs": [],
   "source": [
    "#Question 6 Key patterns observed between flattening the curve and responses\n"
   ]
  },
  {
   "cell_type": "code",
   "execution_count": null,
   "metadata": {},
   "outputs": [],
   "source": [
    "#Question 7 Key patterns observed between responses and long-term economic impact"
   ]
  }
 ],
 "metadata": {
  "kernelspec": {
   "display_name": "Python 3",
   "language": "python",
   "name": "python3"
  },
  "language_info": {
   "codemirror_mode": {
    "name": "ipython",
    "version": 3
   },
   "file_extension": ".py",
   "mimetype": "text/x-python",
   "name": "python",
   "nbconvert_exporter": "python",
   "pygments_lexer": "ipython3",
   "version": "3.8.3"
  }
 },
 "nbformat": 4,
 "nbformat_minor": 2
}
