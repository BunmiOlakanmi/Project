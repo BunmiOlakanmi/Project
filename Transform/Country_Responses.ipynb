{
 "cells": [
  {
   "cell_type": "code",
   "execution_count": 3,
   "metadata": {},
   "outputs": [],
   "source": [
    "# Load JSON\n",
    "filepath = os.path.join(\"..\", \"Resources\", \"owid-covid-data.json\")\n",
    "with open(filepath) as jsonfile:\n",
    "    json_data = json.load(jsonfile)"
   ]
  },
  {
   "cell_type": "code",
   "execution_count": null,
   "metadata": {},
   "outputs": [],
   "source": [
    "pip install covid "
   ]
  },
  {
   "cell_type": "code",
   "execution_count": 2,
   "metadata": {},
   "outputs": [],
   "source": [
    "# Dependencies\n",
    "import json\n",
    "import os\n",
    "import pandas as pd\n",
    "\n"
   ]
  },
  {
   "cell_type": "code",
   "execution_count": null,
   "metadata": {
    "scrolled": false
   },
   "outputs": [],
   "source": [
    "#json_data"
   ]
  },
  {
   "cell_type": "code",
   "execution_count": 14,
   "metadata": {
    "scrolled": false
   },
   "outputs": [
    {
     "data": {
      "text/plain": [
       "214"
      ]
     },
     "execution_count": 14,
     "metadata": {},
     "output_type": "execute_result"
    }
   ],
   "source": [
    "json_data.keys()\n",
    "len(json_data)"
   ]
  },
  {
   "cell_type": "code",
   "execution_count": null,
   "metadata": {},
   "outputs": [],
   "source": [
    "country=[]\n",
    "country_abbrev=[]\n",
    "column_names=[]\n",
    "data= []\n",
    "#data_df"
   ]
  },
  {
   "cell_type": "code",
   "execution_count": null,
   "metadata": {
    "scrolled": false
   },
   "outputs": [],
   "source": [
    "#test_names= json_data[\"ABW\"]\n",
    "#test_names"
   ]
  },
  {
   "cell_type": "code",
   "execution_count": null,
   "metadata": {},
   "outputs": [],
   "source": [
    "##test_names2= json_data[\"ABW\"][\"data\"]\n",
    "##test_names2"
   ]
  },
  {
   "cell_type": "code",
   "execution_count": null,
   "metadata": {},
   "outputs": [],
   "source": [
    "for country_code in json_data.keys():\n",
    "    column_names = json_data[country_code]\n",
    "    country_abbrev.append(country_code)\n",
    "    country.append(json_data[country_code]['location'])\n",
    "    data.append(json_data[country_code]['data'])\n",
    "    "
   ]
  },
  {
   "cell_type": "code",
   "execution_count": null,
   "metadata": {},
   "outputs": [],
   "source": [
    "data[0][0]"
   ]
  },
  {
   "cell_type": "code",
   "execution_count": null,
   "metadata": {},
   "outputs": [],
   "source": [
    "#len(data)"
   ]
  },
  {
   "cell_type": "code",
   "execution_count": 25,
   "metadata": {},
   "outputs": [],
   "source": [
    "names=[]\n",
    "data=[]\n",
    "continents=[]\n",
    "max_date=[]\n",
    "min_date=[]\n",
    "max_strin=[]\n",
    "min_strin=[]\n",
    "code=[]\n",
    "for country_code in json_data.keys():\n",
    "\n",
    "#     if json_data[country_code][\"continent\"]:\n",
    "#     continents.append(json_data[country_code][\"continent\"])\n",
    "    data.append(json_data[country_code]['data'])\n",
    "    data_df= pd.DataFrame(data[0])\n",
    "    data=[]\n",
    "    try:\n",
    "        data_df = data_df[[\"date\", \"stringency_index\"]]\n",
    "        data_df=data_df.dropna()\n",
    "        code.append(country_code)\n",
    "        names.append(json_data[country_code][\"location\"])\n",
    "        newdf1=data_df.loc[(data_df[\"date\"] == data_df[\"date\"].min())]\n",
    "        min_date.extend(newdf1[\"date\"].tolist())\n",
    "        min_strin.extend(newdf1[\"stringency_index\"].tolist())\n",
    "        newdf= data_df.loc[(data_df[\"date\"] == data_df[\"date\"].max())]\n",
    "        max_date.extend(newdf[\"date\"].tolist())\n",
    "        max_strin.extend(newdf[\"stringency_index\"].tolist())   \n",
    "    except KeyError:\n",
    "        None"
   ]
  },
  {
   "cell_type": "code",
   "execution_count": 26,
   "metadata": {},
   "outputs": [
    {
     "data": {
      "text/plain": [
       "181"
      ]
     },
     "execution_count": 26,
     "metadata": {},
     "output_type": "execute_result"
    }
   ],
   "source": [
    "len(names)"
   ]
  },
  {
   "cell_type": "code",
   "execution_count": 27,
   "metadata": {},
   "outputs": [
    {
     "data": {
      "text/html": [
       "<div>\n",
       "<style scoped>\n",
       "    .dataframe tbody tr th:only-of-type {\n",
       "        vertical-align: middle;\n",
       "    }\n",
       "\n",
       "    .dataframe tbody tr th {\n",
       "        vertical-align: top;\n",
       "    }\n",
       "\n",
       "    .dataframe thead th {\n",
       "        text-align: right;\n",
       "    }\n",
       "</style>\n",
       "<table border=\"1\" class=\"dataframe\">\n",
       "  <thead>\n",
       "    <tr style=\"text-align: right;\">\n",
       "      <th></th>\n",
       "      <th>Country</th>\n",
       "      <th>Code</th>\n",
       "      <th>Min_date</th>\n",
       "      <th>Min Stringency</th>\n",
       "      <th>Max_Date</th>\n",
       "      <th>Max Stringency</th>\n",
       "    </tr>\n",
       "  </thead>\n",
       "  <tbody>\n",
       "    <tr>\n",
       "      <th>0</th>\n",
       "      <td>Aruba</td>\n",
       "      <td>ABW</td>\n",
       "      <td>2020-03-13</td>\n",
       "      <td>0.00</td>\n",
       "      <td>2020-11-03</td>\n",
       "      <td>37.04</td>\n",
       "    </tr>\n",
       "    <tr>\n",
       "      <th>1</th>\n",
       "      <td>Afghanistan</td>\n",
       "      <td>AFG</td>\n",
       "      <td>2020-01-01</td>\n",
       "      <td>0.00</td>\n",
       "      <td>2020-11-08</td>\n",
       "      <td>5.56</td>\n",
       "    </tr>\n",
       "    <tr>\n",
       "      <th>2</th>\n",
       "      <td>Angola</td>\n",
       "      <td>AGO</td>\n",
       "      <td>2020-03-22</td>\n",
       "      <td>11.11</td>\n",
       "      <td>2020-10-31</td>\n",
       "      <td>65.74</td>\n",
       "    </tr>\n",
       "    <tr>\n",
       "      <th>3</th>\n",
       "      <td>Anguilla</td>\n",
       "      <td>AIA</td>\n",
       "      <td>2020-03-27</td>\n",
       "      <td>71.30</td>\n",
       "      <td>2020-09-27</td>\n",
       "      <td>24.07</td>\n",
       "    </tr>\n",
       "    <tr>\n",
       "      <th>4</th>\n",
       "      <td>Albania</td>\n",
       "      <td>ALB</td>\n",
       "      <td>2020-03-09</td>\n",
       "      <td>36.11</td>\n",
       "      <td>2020-11-08</td>\n",
       "      <td>50.93</td>\n",
       "    </tr>\n",
       "    <tr>\n",
       "      <th>...</th>\n",
       "      <td>...</td>\n",
       "      <td>...</td>\n",
       "      <td>...</td>\n",
       "      <td>...</td>\n",
       "      <td>...</td>\n",
       "      <td>...</td>\n",
       "    </tr>\n",
       "    <tr>\n",
       "      <th>176</th>\n",
       "      <td>Kosovo</td>\n",
       "      <td>OWID_KOS</td>\n",
       "      <td>2020-03-14</td>\n",
       "      <td>72.22</td>\n",
       "      <td>2020-11-07</td>\n",
       "      <td>60.19</td>\n",
       "    </tr>\n",
       "    <tr>\n",
       "      <th>177</th>\n",
       "      <td>Yemen</td>\n",
       "      <td>YEM</td>\n",
       "      <td>2020-04-10</td>\n",
       "      <td>40.74</td>\n",
       "      <td>2020-11-09</td>\n",
       "      <td>24.07</td>\n",
       "    </tr>\n",
       "    <tr>\n",
       "      <th>178</th>\n",
       "      <td>South Africa</td>\n",
       "      <td>ZAF</td>\n",
       "      <td>2020-02-07</td>\n",
       "      <td>2.78</td>\n",
       "      <td>2020-10-29</td>\n",
       "      <td>38.89</td>\n",
       "    </tr>\n",
       "    <tr>\n",
       "      <th>179</th>\n",
       "      <td>Zambia</td>\n",
       "      <td>ZMB</td>\n",
       "      <td>2020-03-19</td>\n",
       "      <td>16.67</td>\n",
       "      <td>2020-10-29</td>\n",
       "      <td>41.67</td>\n",
       "    </tr>\n",
       "    <tr>\n",
       "      <th>180</th>\n",
       "      <td>Zimbabwe</td>\n",
       "      <td>ZWE</td>\n",
       "      <td>2020-03-21</td>\n",
       "      <td>27.78</td>\n",
       "      <td>2020-10-29</td>\n",
       "      <td>71.30</td>\n",
       "    </tr>\n",
       "  </tbody>\n",
       "</table>\n",
       "<p>181 rows × 6 columns</p>\n",
       "</div>"
      ],
      "text/plain": [
       "          Country      Code    Min_date  Min Stringency    Max_Date  \\\n",
       "0           Aruba       ABW  2020-03-13            0.00  2020-11-03   \n",
       "1     Afghanistan       AFG  2020-01-01            0.00  2020-11-08   \n",
       "2          Angola       AGO  2020-03-22           11.11  2020-10-31   \n",
       "3        Anguilla       AIA  2020-03-27           71.30  2020-09-27   \n",
       "4         Albania       ALB  2020-03-09           36.11  2020-11-08   \n",
       "..            ...       ...         ...             ...         ...   \n",
       "176        Kosovo  OWID_KOS  2020-03-14           72.22  2020-11-07   \n",
       "177         Yemen       YEM  2020-04-10           40.74  2020-11-09   \n",
       "178  South Africa       ZAF  2020-02-07            2.78  2020-10-29   \n",
       "179        Zambia       ZMB  2020-03-19           16.67  2020-10-29   \n",
       "180      Zimbabwe       ZWE  2020-03-21           27.78  2020-10-29   \n",
       "\n",
       "     Max Stringency  \n",
       "0             37.04  \n",
       "1              5.56  \n",
       "2             65.74  \n",
       "3             24.07  \n",
       "4             50.93  \n",
       "..              ...  \n",
       "176           60.19  \n",
       "177           24.07  \n",
       "178           38.89  \n",
       "179           41.67  \n",
       "180           71.30  \n",
       "\n",
       "[181 rows x 6 columns]"
      ]
     },
     "execution_count": 27,
     "metadata": {},
     "output_type": "execute_result"
    }
   ],
   "source": [
    "data_df=pd.DataFrame({\"Country\":names, \"Code\":code, \"Min_date\":min_date,\"Min Stringency\":min_strin, \"Max_Date\": max_date, \"Max Stringency\": max_strin})\n",
    "data_df"
   ]
  },
  {
   "cell_type": "code",
   "execution_count": 24,
   "metadata": {},
   "outputs": [
    {
     "data": {
      "text/html": [
       "<div>\n",
       "<style scoped>\n",
       "    .dataframe tbody tr th:only-of-type {\n",
       "        vertical-align: middle;\n",
       "    }\n",
       "\n",
       "    .dataframe tbody tr th {\n",
       "        vertical-align: top;\n",
       "    }\n",
       "\n",
       "    .dataframe thead th {\n",
       "        text-align: right;\n",
       "    }\n",
       "</style>\n",
       "<table border=\"1\" class=\"dataframe\">\n",
       "  <thead>\n",
       "    <tr style=\"text-align: right;\">\n",
       "      <th></th>\n",
       "      <th>Country</th>\n",
       "      <th>Code</th>\n",
       "      <th>Min_date</th>\n",
       "      <th>Min Stringency</th>\n",
       "      <th>Max_Date</th>\n",
       "      <th>Max Stringency</th>\n",
       "    </tr>\n",
       "  </thead>\n",
       "  <tbody>\n",
       "    <tr>\n",
       "      <th>20</th>\n",
       "      <td>Belize</td>\n",
       "      <td>BLZ</td>\n",
       "      <td>2020-03-24</td>\n",
       "      <td>54.63</td>\n",
       "      <td>2020-11-10</td>\n",
       "      <td>66.67</td>\n",
       "    </tr>\n",
       "    <tr>\n",
       "      <th>24</th>\n",
       "      <td>Barbados</td>\n",
       "      <td>BRB</td>\n",
       "      <td>2020-03-18</td>\n",
       "      <td>38.89</td>\n",
       "      <td>2020-11-10</td>\n",
       "      <td>40.74</td>\n",
       "    </tr>\n",
       "    <tr>\n",
       "      <th>34</th>\n",
       "      <td>Cameroon</td>\n",
       "      <td>CMR</td>\n",
       "      <td>2020-03-07</td>\n",
       "      <td>0.00</td>\n",
       "      <td>2020-11-10</td>\n",
       "      <td>45.37</td>\n",
       "    </tr>\n",
       "    <tr>\n",
       "      <th>72</th>\n",
       "      <td>Hong Kong</td>\n",
       "      <td>HKG</td>\n",
       "      <td>2020-01-31</td>\n",
       "      <td>49.07</td>\n",
       "      <td>2020-11-03</td>\n",
       "      <td>51.85</td>\n",
       "    </tr>\n",
       "    <tr>\n",
       "      <th>134</th>\n",
       "      <td>Palestine</td>\n",
       "      <td>PSE</td>\n",
       "      <td>2020-03-06</td>\n",
       "      <td>74.07</td>\n",
       "      <td>2020-11-10</td>\n",
       "      <td>40.74</td>\n",
       "    </tr>\n",
       "  </tbody>\n",
       "</table>\n",
       "</div>"
      ],
      "text/plain": [
       "       Country Code    Min_date  Min Stringency    Max_Date  Max Stringency\n",
       "20      Belize  BLZ  2020-03-24           54.63  2020-11-10           66.67\n",
       "24    Barbados  BRB  2020-03-18           38.89  2020-11-10           40.74\n",
       "34    Cameroon  CMR  2020-03-07            0.00  2020-11-10           45.37\n",
       "72   Hong Kong  HKG  2020-01-31           49.07  2020-11-03           51.85\n",
       "134  Palestine  PSE  2020-03-06           74.07  2020-11-10           40.74"
      ]
     },
     "execution_count": 24,
     "metadata": {},
     "output_type": "execute_result"
    }
   ],
   "source": [
    "data=data_df.dropna()\n",
    "data"
   ]
  },
  {
   "cell_type": "code",
   "execution_count": null,
   "metadata": {},
   "outputs": [],
   "source": [
    "data_df= pd.DataFrame(data[0])\n",
    "data_df ###gives ABW only ##238 rows\n"
   ]
  },
  {
   "cell_type": "code",
   "execution_count": null,
   "metadata": {},
   "outputs": [],
   "source": []
  },
  {
   "cell_type": "code",
   "execution_count": null,
   "metadata": {},
   "outputs": [],
   "source": [
    "new_df = data_df[[\"date\", \"stringency_index\"]]\n",
    "new_df=new_df.loc[(new_df[\"date\"] == new_df[\"date\"].min()) | (new_df[\"date\"] == new_df[\"date\"].max())]\n",
    "#new_df[\"stringency_index\"]=\n",
    "new_df"
   ]
  },
  {
   "cell_type": "code",
   "execution_count": null,
   "metadata": {},
   "outputs": [],
   "source": [
    "#for records in column_names:\n",
    " #   data.append(column_names[records])\n",
    "    \n",
    "#data"
   ]
  },
  {
   "cell_type": "code",
   "execution_count": null,
   "metadata": {},
   "outputs": [],
   "source": [
    "#data_df= pd.DataFrame(data)\n",
    "#data_df"
   ]
  },
  {
   "cell_type": "code",
   "execution_count": null,
   "metadata": {},
   "outputs": [],
   "source": [
    "# Isolate \"data items\" for easy reading\n",
    "\n",
    "#continent = json_data[\"continent\"]\n",
    "\n",
    "#location = json_data[\"location\"]\n",
    "\n",
    "#data = json_data[\"data\"]\n",
    "#data_items = data[\"items\"]\n",
    "\n",
    "# Retrieve the video's title\n",
    "#title = data_items[0][\"title\"]\n",
    "#print(\"Title: \", title)# Isolate \"data items\" for easy reading\n",
    "#data = video_json[\"data\"]\n",
    "#data_items = data[\"items\"]\n",
    "\n",
    "# Retrieve the video's title\n",
    "#title = data_items[0][\"title\"]\n",
    "#print(\"Title: \", title)"
   ]
  },
  {
   "cell_type": "code",
   "execution_count": null,
   "metadata": {},
   "outputs": [],
   "source": []
  }
 ],
 "metadata": {
  "kernelspec": {
   "display_name": "Python 3",
   "language": "python",
   "name": "python3"
  },
  "language_info": {
   "codemirror_mode": {
    "name": "ipython",
    "version": 3
   },
   "file_extension": ".py",
   "mimetype": "text/x-python",
   "name": "python",
   "nbconvert_exporter": "python",
   "pygments_lexer": "ipython3",
   "version": "3.8.3"
  }
 },
 "nbformat": 4,
 "nbformat_minor": 4
}
